{
 "cells": [
  {
   "cell_type": "code",
   "execution_count": null,
   "id": "ffc0006e",
   "metadata": {},
   "outputs": [],
   "source": [
    "import pandas as pd\n",
    "from datetime import datetime\n",
    "import re"
   ]
  },
  {
   "cell_type": "code",
   "execution_count": 88,
   "id": "d6f3f27e",
   "metadata": {},
   "outputs": [],
   "source": [
    "# Carregando dados em um dataframe pandas\n",
    "\n",
    "df = pd.read_json(\n",
    "    '../../data/data_netvasco_temp_17to24.jsonl', lines=True)\n"
   ]
  },
  {
   "cell_type": "code",
   "execution_count": 89,
   "id": "9eba67e7",
   "metadata": {},
   "outputs": [
    {
     "data": {
      "text/html": [
       "<div>\n",
       "<style scoped>\n",
       "    .dataframe tbody tr th:only-of-type {\n",
       "        vertical-align: middle;\n",
       "    }\n",
       "\n",
       "    .dataframe tbody tr th {\n",
       "        vertical-align: top;\n",
       "    }\n",
       "\n",
       "    .dataframe thead th {\n",
       "        text-align: right;\n",
       "    }\n",
       "</style>\n",
       "<table border=\"1\" class=\"dataframe\">\n",
       "  <thead>\n",
       "    <tr style=\"text-align: right;\">\n",
       "      <th></th>\n",
       "      <th>data_mandante_visitante_gols</th>\n",
       "      <th>competição_resultado</th>\n",
       "      <th>temporada</th>\n",
       "    </tr>\n",
       "  </thead>\n",
       "  <tbody>\n",
       "    <tr>\n",
       "      <th>0</th>\n",
       "      <td>[18/01, VASCO ,  Boavista, Capasso, Leandrinho...</td>\n",
       "      <td>[Carioca, 2 x 0, Serie RLP, 0 x 1, Carioca, 3 ...</td>\n",
       "      <td>Temporada 2024</td>\n",
       "    </tr>\n",
       "    <tr>\n",
       "      <th>1</th>\n",
       "      <td>[15/01, VASCO ,  Barcelona-EQU, NenÃª, Rodrigo...</td>\n",
       "      <td>[Florida Cup, 2 x 1, Florida Cup, 1 x 4, Flori...</td>\n",
       "      <td>Temporada 2017</td>\n",
       "    </tr>\n",
       "    <tr>\n",
       "      <th>2</th>\n",
       "      <td>[18/01, VASCO ,  Bangu, -, 21/01, VASCO ,  Nov...</td>\n",
       "      <td>[Estadual, 0 x 2, Estadual, 4 x 2, Estadual, 2...</td>\n",
       "      <td>Temporada 2018</td>\n",
       "    </tr>\n",
       "    <tr>\n",
       "      <th>3</th>\n",
       "      <td>[19/01, VASCO ,  Bangu, -, 22/01, VASCO ,  Fla...</td>\n",
       "      <td>[Estadual, 0 x 0, Estadual, 0 x 1, Estadual, 0...</td>\n",
       "      <td>Temporada 2020</td>\n",
       "    </tr>\n",
       "    <tr>\n",
       "      <th>4</th>\n",
       "      <td>[03/03, VASCO ,  Portuguesa, -, 06/03, Volta R...</td>\n",
       "      <td>[Estadual, 0 x 1, Estadual, 1 x 0, Estadual, 2...</td>\n",
       "      <td>Temporada 2021</td>\n",
       "    </tr>\n",
       "  </tbody>\n",
       "</table>\n",
       "</div>"
      ],
      "text/plain": [
       "                        data_mandante_visitante_gols  \\\n",
       "0  [18/01, VASCO ,  Boavista, Capasso, Leandrinho...   \n",
       "1  [15/01, VASCO ,  Barcelona-EQU, NenÃª, Rodrigo...   \n",
       "2  [18/01, VASCO ,  Bangu, -, 21/01, VASCO ,  Nov...   \n",
       "3  [19/01, VASCO ,  Bangu, -, 22/01, VASCO ,  Fla...   \n",
       "4  [03/03, VASCO ,  Portuguesa, -, 06/03, Volta R...   \n",
       "\n",
       "                                competição_resultado       temporada  \n",
       "0  [Carioca, 2 x 0, Serie RLP, 0 x 1, Carioca, 3 ...  Temporada 2024  \n",
       "1  [Florida Cup, 2 x 1, Florida Cup, 1 x 4, Flori...  Temporada 2017  \n",
       "2  [Estadual, 0 x 2, Estadual, 4 x 2, Estadual, 2...  Temporada 2018  \n",
       "3  [Estadual, 0 x 0, Estadual, 0 x 1, Estadual, 0...  Temporada 2020  \n",
       "4  [Estadual, 0 x 1, Estadual, 1 x 0, Estadual, 2...  Temporada 2021  "
      ]
     },
     "execution_count": 89,
     "metadata": {},
     "output_type": "execute_result"
    }
   ],
   "source": [
    "# Imprimindo primeiras linhas\n",
    "df.head(5)"
   ]
  },
  {
   "cell_type": "code",
   "execution_count": 90,
   "id": "19f00bc5",
   "metadata": {},
   "outputs": [
    {
     "name": "stdout",
     "output_type": "stream",
     "text": [
      "\n",
      "Valores ausentes no conjunto de dados:\n",
      "data_mandante_visitante_gols    0\n",
      "competição_resultado            0\n",
      "temporada                       0\n",
      "dtype: int64\n"
     ]
    }
   ],
   "source": [
    "# Verificar valores ausentes\n",
    "\n",
    "print(\"\\nValores ausentes no conjunto de dados:\")\n",
    "print(df.isnull().sum())"
   ]
  },
  {
   "cell_type": "code",
   "execution_count": 91,
   "id": "a6ddbb99",
   "metadata": {},
   "outputs": [
    {
     "name": "stdout",
     "output_type": "stream",
     "text": [
      "Nomes das colunas no DataFrame:\n",
      "Index(['data_mandante_visitante_gols', 'competição_resultado', 'temporada'], dtype='object')\n"
     ]
    }
   ],
   "source": [
    "# Verificando os nomes das colunas\n",
    "\n",
    "print(\"Nomes das colunas no DataFrame:\")\n",
    "print(df.columns)"
   ]
  },
  {
   "cell_type": "code",
   "execution_count": 92,
   "id": "45bc50f4",
   "metadata": {},
   "outputs": [],
   "source": [
    "# Usando variavel auxiliar para selecionar as linhas correspondentes a cada ano\n",
    "\n",
    "temp_2024 = df.iloc[[0]]\n",
    "temp_2017 = df.iloc[[1]]\n",
    "temp_2018 = df.iloc[[2]]\n",
    "temp_2020 = df.iloc[[3]]\n",
    "temp_2021 = df.iloc[[4]]\n",
    "temp_2022 = df.iloc[[5]]\n",
    "temp_2019 = df.iloc[[6]]\n",
    "temp_2023 = df.iloc[[7]]\n"
   ]
  },
  {
   "cell_type": "code",
   "execution_count": 93,
   "id": "b4b7b436",
   "metadata": {},
   "outputs": [],
   "source": [
    "# Separando dados em col2 para tratamento\n",
    "\n",
    "temp_17_col2 = temp_2017['competição_resultado']\n",
    "temp_18_col2 = temp_2018['competição_resultado']\n",
    "temp_19_col2 = temp_2019['competição_resultado']\n",
    "temp_20_col2 = temp_2020['competição_resultado']\n",
    "temp_21_col2 = temp_2021['competição_resultado']\n",
    "temp_22_col2 = temp_2022['competição_resultado']\n",
    "temp_23_col2 = temp_2023['competição_resultado']\n",
    "temp_24_col2 = temp_2024['competição_resultado']"
   ]
  },
  {
   "cell_type": "code",
   "execution_count": 94,
   "id": "73e26cf2",
   "metadata": {},
   "outputs": [],
   "source": [
    "# Separando dados de competição e resultado\n",
    "\n",
    "# Função auxiliar para processar cada linha\n",
    "def separar_competicao_resultado(linha):\n",
    "    if isinstance(linha, list):\n",
    "        itens = linha  # já está como lista, segue o baile\n",
    "    else:\n",
    "        itens = str(linha).split(', ')\n",
    "    competicoes = itens[::2]\n",
    "    resultados = itens[1::2]\n",
    "    return pd.DataFrame({'competicao': competicoes, 'resultado': resultados})\n",
    "\n",
    "# Aplica a função em todas as linhas\n",
    "temp_17_col2_clean = pd.concat(temp_17_col2.apply(separar_competicao_resultado).to_list(), ignore_index=True)\n",
    "temp_18_col2_clean = pd.concat(temp_18_col2.apply(separar_competicao_resultado).to_list(), ignore_index=True)\n",
    "temp_19_col2_clean = pd.concat(temp_19_col2.apply(separar_competicao_resultado).to_list(), ignore_index=True)\n",
    "temp_20_col2_clean = pd.concat(temp_20_col2.apply(separar_competicao_resultado).to_list(), ignore_index=True)\n",
    "temp_21_col2_clean = pd.concat(temp_21_col2.apply(separar_competicao_resultado).to_list(), ignore_index=True)\n",
    "temp_22_col2_clean = pd.concat(temp_22_col2.apply(separar_competicao_resultado).to_list(), ignore_index=True)\n",
    "temp_23_col2_clean = pd.concat(temp_23_col2.apply(separar_competicao_resultado).to_list(), ignore_index=True)\n",
    "temp_24_col2_clean = pd.concat(temp_24_col2.apply(separar_competicao_resultado).to_list(), ignore_index=True)\n"
   ]
  },
  {
   "cell_type": "code",
   "execution_count": 95,
   "id": "d03c89bd",
   "metadata": {},
   "outputs": [],
   "source": [
    "# Função para tratar os dados separados em col2.\n",
    "\n",
    "def tratar_resultados_col2(df_resultados):\n",
    "    # Cópia de segurança opcional (pra não mexer no original, se quiser)\n",
    "    df = df_resultados.copy()\n",
    "\n",
    "    # Substitui traços ou vazios por placar neutro\n",
    "    df['resultado'] = df['resultado'].replace('-', '0 x 0')\n",
    "\n",
    "    # Extrai os dois números do placar e transforma em inteiros\n",
    "    df[['gol_mandante', 'gol_visitante']] = df['resultado'].str.extract(\n",
    "        r'(\\d+)\\s*x\\s*(\\d+)', expand=True\n",
    "    ).astype(int)\n",
    "\n",
    "    # Remove a coluna original de resultado\n",
    "    df = df.drop(columns=['resultado'])\n",
    "\n",
    "    return df\n"
   ]
  },
  {
   "cell_type": "code",
   "execution_count": 96,
   "id": "0c7a66bc",
   "metadata": {},
   "outputs": [],
   "source": [
    "# Aplicando função para tratar os dados de col2 para anos de 2017 a 2024\n",
    "\n",
    "temp_17_col2_clean = tratar_resultados_col2(temp_17_col2_clean)\n",
    "temp_18_col2_clean = tratar_resultados_col2(temp_18_col2_clean)\n",
    "temp_19_col2_clean = tratar_resultados_col2(temp_19_col2_clean)\n",
    "temp_20_col2_clean = tratar_resultados_col2(temp_20_col2_clean)\n",
    "temp_21_col2_clean = tratar_resultados_col2(temp_21_col2_clean)\n",
    "temp_22_col2_clean = tratar_resultados_col2(temp_22_col2_clean)\n",
    "temp_23_col2_clean = tratar_resultados_col2(temp_23_col2_clean)\n",
    "temp_24_col2_clean = tratar_resultados_col2(temp_24_col2_clean)"
   ]
  },
  {
   "cell_type": "code",
   "execution_count": 97,
   "id": "39e3af98",
   "metadata": {},
   "outputs": [],
   "source": [
    "# Separando dados em col1 para tratamento dos dados para anos de 2017 a 2024\n",
    "\n",
    "temp_17_col1 = temp_2017['data_mandante_visitante_gols']\n",
    "temp_18_col1 = temp_2018['data_mandante_visitante_gols']\n",
    "temp_19_col1 = temp_2019['data_mandante_visitante_gols']\n",
    "temp_20_col1 = temp_2020['data_mandante_visitante_gols']\n",
    "temp_21_col1 = temp_2021['data_mandante_visitante_gols']\n",
    "temp_22_col1 = temp_2022['data_mandante_visitante_gols']\n",
    "temp_23_col1 = temp_2023['data_mandante_visitante_gols']\n",
    "temp_24_col1 = temp_2024['data_mandante_visitante_gols']"
   ]
  },
  {
   "cell_type": "code",
   "execution_count": 98,
   "id": "ae8ae363",
   "metadata": {},
   "outputs": [],
   "source": [
    "# Função para concatenar dados separados em col1 e col2 já tratados\n",
    "\n",
    "def preparar_dataframe(col1, col2):\n",
    "    # Reseta o índice para garantir alinhamento perfeito\n",
    "    col1 = col1.reset_index(drop=True)\n",
    "    col2 = col2.reset_index(drop=True)\n",
    "\n",
    "    # Junta lado a lado\n",
    "    df = pd.concat([col1, col2], axis=1)\n",
    "\n",
    "    # Detecta colunas de artilheiros\n",
    "    colunas_gols_extra = [col for col in df.columns if col.startswith('gol_') and col not in ['gol_mandante', 'gol_visitante']]\n",
    "\n",
    "    # Monta a nova ordem das colunas\n",
    "    nova_ordem = ['data']\n",
    "    if 'competicao' in df.columns:\n",
    "        nova_ordem.append('competicao')\n",
    "    nova_ordem += ['mandante', 'gol_mandante', 'visitante', 'gol_visitante'] + colunas_gols_extra\n",
    "\n",
    "    # Reorganiza\n",
    "    df = df[nova_ordem]\n",
    "\n",
    "    return df\n"
   ]
  },
  {
   "cell_type": "code",
   "execution_count": 99,
   "id": "3d6e7514",
   "metadata": {},
   "outputs": [],
   "source": [
    "# Função para tratar dados separados em col1\n",
    "\n",
    "\n",
    "def tratar_jogos_col1(lista_dados, ano):\n",
    "    # Lista com os dados crus (ex: temp_17_col1[1])\n",
    "    dados = lista_dados\n",
    "\n",
    "    # Função pra identificar datas no formato dd/mm\n",
    "    def is_data(item):\n",
    "        return bool(re.match(r'\\d{2}/\\d{2}', str(item)))\n",
    "\n",
    "    # Identifica onde começam os blocos de jogos\n",
    "    indices = [i for i, val in enumerate(dados) if is_data(val)]\n",
    "\n",
    "    # Monta os jogos a partir das fatias\n",
    "    jogos = []\n",
    "    for i in range(len(indices)):\n",
    "        ini = indices[i]\n",
    "        fim = indices[i + 1] if i + 1 < len(indices) else len(dados)\n",
    "        trecho = dados[ini:fim]\n",
    "        if len(trecho) >= 4:\n",
    "            data = trecho[0]\n",
    "            mandante = trecho[1].strip()\n",
    "            visitante = trecho[2].strip()\n",
    "            gols_raw = trecho[3].strip()\n",
    "            artilheiros = [g.strip() for g in gols_raw.split(',')] if gols_raw != '-' else []\n",
    "            jogo = {\n",
    "                'data': data,\n",
    "                'mandante': mandante,\n",
    "                'visitante': visitante\n",
    "            }\n",
    "            for j, nome in enumerate(artilheiros):\n",
    "                jogo[f'gol_{j+1}'] = nome\n",
    "            jogos.append(jogo)\n",
    "\n",
    "    # Cria o DataFrame\n",
    "    df = pd.DataFrame(jogos)\n",
    "\n",
    "    # Trata a data completa e formata para dd/mm/aaaa\n",
    "    df['data_completa'] = pd.to_datetime(\n",
    "        df['data'].astype(str).str.strip() + f'/{ano}', format='%d/%m/%Y'\n",
    "    )\n",
    "    df['data_formatada'] = df['data_completa'].dt.strftime('%d/%m/%Y')\n",
    "\n",
    "    # Limpa e reorganiza\n",
    "    df = df.drop(columns=['data', 'data_completa'])\n",
    "    df = df.rename(columns={'data_formatada': 'data'})\n",
    "\n",
    "    # Coloca 'data' na primeira coluna\n",
    "    colunas = df.columns.tolist()\n",
    "    colunas.remove('data')\n",
    "    nova_ordem = ['data'] + colunas\n",
    "    df = df[nova_ordem]\n",
    "\n",
    "    return df\n"
   ]
  },
  {
   "cell_type": "code",
   "execution_count": 100,
   "id": "b8ab06e6",
   "metadata": {},
   "outputs": [],
   "source": [
    "# Aplicando a função para tratar os dados da col1 para anos de 2017 a 2024\n",
    "\n",
    "temp_17_col1_clean = tratar_jogos_col1(temp_17_col1[1], 2017)\n",
    "temp_18_col1_clean = tratar_jogos_col1(temp_18_col1[2], 2018)\n",
    "temp_19_col1_clean = tratar_jogos_col1(temp_19_col1[6], 2019)\n",
    "temp_20_col1_clean = tratar_jogos_col1(temp_20_col1[3], 2020)\n",
    "temp_21_col1_clean = tratar_jogos_col1(temp_21_col1[4], 2021)\n",
    "temp_22_col1_clean = tratar_jogos_col1(temp_22_col1[5], 2022)\n",
    "temp_23_col1_clean = tratar_jogos_col1(temp_23_col1[7], 2023)\n",
    "temp_24_col1_clean = tratar_jogos_col1(temp_24_col1[0], 2024)\n"
   ]
  },
  {
   "cell_type": "code",
   "execution_count": 101,
   "id": "68ca4f7a",
   "metadata": {},
   "outputs": [],
   "source": [
    "# Aplicando função para concatenar dados que foram separados em col1 e col2 para anos de 2017 a 2024\n",
    "\n",
    "df_2017 = preparar_dataframe(temp_17_col1_clean, temp_17_col2_clean)\n",
    "df_2018 = preparar_dataframe(temp_18_col1_clean, temp_18_col2_clean)\n",
    "df_2019 = preparar_dataframe(temp_19_col1_clean, temp_19_col2_clean)\n",
    "df_2020 = preparar_dataframe(temp_20_col1_clean, temp_20_col2_clean)\n",
    "df_2021 = preparar_dataframe(temp_21_col1_clean, temp_21_col2_clean)\n",
    "df_2022 = preparar_dataframe(temp_22_col1_clean, temp_22_col2_clean)\n",
    "df_2023 = preparar_dataframe(temp_23_col1_clean, temp_23_col2_clean)\n",
    "df_2024 = preparar_dataframe(temp_24_col1_clean, temp_24_col2_clean)"
   ]
  },
  {
   "cell_type": "code",
   "execution_count": 102,
   "id": "3ec4eb0c",
   "metadata": {},
   "outputs": [
    {
     "name": "stdout",
     "output_type": "stream",
     "text": [
      "Ano 2017 — linhas: 60, colunas: ['data', 'competicao', 'mandante', 'gol_mandante', 'visitante', 'gol_visitante', 'gol_1', 'gol_2', 'gol_3']\n",
      "Ano 2018 — linhas: 67, colunas: ['data', 'competicao', 'mandante', 'gol_mandante', 'visitante', 'gol_visitante', 'gol_1', 'gol_2', 'gol_3', 'gol_4']\n",
      "Ano 2019 — linhas: 65, colunas: ['data', 'competicao', 'mandante', 'gol_mandante', 'visitante', 'gol_visitante', 'gol_1', 'gol_2', 'gol_3', 'gol_4']\n",
      "Ano 2020 — linhas: 61, colunas: ['data', 'competicao', 'mandante', 'gol_mandante', 'visitante', 'gol_visitante', 'gol_1', 'gol_2', 'gol_3']\n",
      "Ano 2021 — linhas: 59, colunas: ['data', 'competicao', 'mandante', 'gol_mandante', 'visitante', 'gol_visitante', 'gol_1', 'gol_2', 'gol_3']\n",
      "Ano 2022 — linhas: 53, colunas: ['data', 'competicao', 'mandante', 'gol_mandante', 'visitante', 'gol_visitante', 'gol_1', 'gol_2', 'gol_3', 'gol_4']\n",
      "Ano 2023 — linhas: 56, colunas: ['data', 'competicao', 'mandante', 'gol_mandante', 'visitante', 'gol_visitante', 'gol_1', 'gol_2', 'gol_3', 'gol_4']\n",
      "Ano 2024 — linhas: 63, colunas: ['data', 'competicao', 'mandante', 'gol_mandante', 'visitante', 'gol_visitante', 'gol_1', 'gol_2', 'gol_3', 'gol_4']\n",
      "data             object\n",
      "competicao       object\n",
      "mandante         object\n",
      "gol_mandante      int64\n",
      "visitante        object\n",
      "gol_visitante     int64\n",
      "gol_1            object\n",
      "gol_2            object\n",
      "gol_3            object\n",
      "dtype: object\n",
      "data             object\n",
      "competicao       object\n",
      "mandante         object\n",
      "gol_mandante      int64\n",
      "visitante        object\n",
      "gol_visitante     int64\n",
      "gol_1            object\n",
      "gol_2            object\n",
      "gol_3            object\n",
      "gol_4            object\n",
      "dtype: object\n",
      "data             object\n",
      "competicao       object\n",
      "mandante         object\n",
      "gol_mandante      int64\n",
      "visitante        object\n",
      "gol_visitante     int64\n",
      "gol_1            object\n",
      "gol_2            object\n",
      "gol_3            object\n",
      "gol_4            object\n",
      "dtype: object\n",
      "data             object\n",
      "competicao       object\n",
      "mandante         object\n",
      "gol_mandante      int64\n",
      "visitante        object\n",
      "gol_visitante     int64\n",
      "gol_1            object\n",
      "gol_2            object\n",
      "gol_3            object\n",
      "dtype: object\n",
      "data             object\n",
      "competicao       object\n",
      "mandante         object\n",
      "gol_mandante      int64\n",
      "visitante        object\n",
      "gol_visitante     int64\n",
      "gol_1            object\n",
      "gol_2            object\n",
      "gol_3            object\n",
      "dtype: object\n",
      "data             object\n",
      "competicao       object\n",
      "mandante         object\n",
      "gol_mandante      int64\n",
      "visitante        object\n",
      "gol_visitante     int64\n",
      "gol_1            object\n",
      "gol_2            object\n",
      "gol_3            object\n",
      "gol_4            object\n",
      "dtype: object\n",
      "data             object\n",
      "competicao       object\n",
      "mandante         object\n",
      "gol_mandante      int64\n",
      "visitante        object\n",
      "gol_visitante     int64\n",
      "gol_1            object\n",
      "gol_2            object\n",
      "gol_3            object\n",
      "gol_4            object\n",
      "dtype: object\n",
      "data             object\n",
      "competicao       object\n",
      "mandante         object\n",
      "gol_mandante      int64\n",
      "visitante        object\n",
      "gol_visitante     int64\n",
      "gol_1            object\n",
      "gol_2            object\n",
      "gol_3            object\n",
      "gol_4            object\n",
      "dtype: object\n"
     ]
    }
   ],
   "source": [
    "# Concatenando os df das temporadas 2017 a 2024\n",
    "\n",
    "# Lista com todos os DataFrames\n",
    "lista_dfs = [df_2017, df_2018, df_2019, df_2020, df_2021, df_2022, df_2023, df_2024]\n",
    "\n",
    "for i, df in enumerate(lista_dfs, start=2017):\n",
    "    print(f\"Ano {i} — linhas: {len(df)}, colunas: {df.columns.tolist()}\")\n",
    "\n",
    "for df in lista_dfs:\n",
    "    print(df.dtypes)\n",
    "\n",
    "\n",
    "# Cria uma nova coluna 'ano' em cada DataFrame\n",
    "anos = list(range(2017, 2025))\n",
    "for df, ano in zip(lista_dfs, anos):\n",
    "    df['ano'] = ano\n",
    "\n",
    "# Junta tudo em um só DataFrame\n",
    "df_data_netvasco = pd.concat(lista_dfs, ignore_index=True)"
   ]
  },
  {
   "cell_type": "code",
   "execution_count": 103,
   "id": "fc774d7b",
   "metadata": {},
   "outputs": [
    {
     "data": {
      "text/html": [
       "<div>\n",
       "<style scoped>\n",
       "    .dataframe tbody tr th:only-of-type {\n",
       "        vertical-align: middle;\n",
       "    }\n",
       "\n",
       "    .dataframe tbody tr th {\n",
       "        vertical-align: top;\n",
       "    }\n",
       "\n",
       "    .dataframe thead th {\n",
       "        text-align: right;\n",
       "    }\n",
       "</style>\n",
       "<table border=\"1\" class=\"dataframe\">\n",
       "  <thead>\n",
       "    <tr style=\"text-align: right;\">\n",
       "      <th></th>\n",
       "      <th>data</th>\n",
       "      <th>competicao</th>\n",
       "      <th>mandante</th>\n",
       "      <th>gol_mandante</th>\n",
       "      <th>visitante</th>\n",
       "      <th>gol_visitante</th>\n",
       "      <th>gol_1</th>\n",
       "      <th>gol_2</th>\n",
       "      <th>gol_3</th>\n",
       "      <th>ano</th>\n",
       "      <th>gol_4</th>\n",
       "    </tr>\n",
       "  </thead>\n",
       "  <tbody>\n",
       "    <tr>\n",
       "      <th>0</th>\n",
       "      <td>15/01/2017</td>\n",
       "      <td>Florida Cup</td>\n",
       "      <td>VASCO</td>\n",
       "      <td>2</td>\n",
       "      <td>Barcelona-EQU</td>\n",
       "      <td>1</td>\n",
       "      <td>NenÃª</td>\n",
       "      <td>Rodrigo</td>\n",
       "      <td>NaN</td>\n",
       "      <td>2017</td>\n",
       "      <td>NaN</td>\n",
       "    </tr>\n",
       "    <tr>\n",
       "      <th>1</th>\n",
       "      <td>18/01/2017</td>\n",
       "      <td>Florida Cup</td>\n",
       "      <td>VASCO</td>\n",
       "      <td>1</td>\n",
       "      <td>Corinthians</td>\n",
       "      <td>4</td>\n",
       "      <td>Eder Luis</td>\n",
       "      <td>NaN</td>\n",
       "      <td>NaN</td>\n",
       "      <td>2017</td>\n",
       "      <td>NaN</td>\n",
       "    </tr>\n",
       "    <tr>\n",
       "      <th>2</th>\n",
       "      <td>21/01/2017</td>\n",
       "      <td>Florida Cup</td>\n",
       "      <td>VASCO</td>\n",
       "      <td>1</td>\n",
       "      <td>River Plate-ARG</td>\n",
       "      <td>0</td>\n",
       "      <td>NenÃª</td>\n",
       "      <td>NaN</td>\n",
       "      <td>NaN</td>\n",
       "      <td>2017</td>\n",
       "      <td>NaN</td>\n",
       "    </tr>\n",
       "  </tbody>\n",
       "</table>\n",
       "</div>"
      ],
      "text/plain": [
       "         data   competicao mandante  gol_mandante        visitante  \\\n",
       "0  15/01/2017  Florida Cup    VASCO             2    Barcelona-EQU   \n",
       "1  18/01/2017  Florida Cup    VASCO             1      Corinthians   \n",
       "2  21/01/2017  Florida Cup    VASCO             1  River Plate-ARG   \n",
       "\n",
       "   gol_visitante      gol_1    gol_2 gol_3   ano gol_4  \n",
       "0              1      NenÃª  Rodrigo   NaN  2017   NaN  \n",
       "1              4  Eder Luis      NaN   NaN  2017   NaN  \n",
       "2              0      NenÃª      NaN   NaN  2017   NaN  "
      ]
     },
     "execution_count": 103,
     "metadata": {},
     "output_type": "execute_result"
    }
   ],
   "source": [
    "# Verificando df concatenado\n",
    "\n",
    "df_data_netvasco.head(3)"
   ]
  },
  {
   "cell_type": "code",
   "execution_count": 104,
   "id": "8141b80a",
   "metadata": {},
   "outputs": [
    {
     "name": "stdout",
     "output_type": "stream",
     "text": [
      "['Nenê', 'Eder Luis', nan, 'Guilherme Costa', 'Escudero', 'Nenê (2)', 'Thalles', 'Yago Pikachu', 'Douglas Luiz', 'Rafael Marques', 'Luis Fabiano', 'Luis Fabiano (2)', 'Jean', 'Caio Monteiro', 'Paulinho (2)', 'Manga Escobar', 'Ramon', 'Mateus Vital', 'Andrés Ríos', 'Breno', 'Evander', 'Paulinho', 'Evander (2)', 'Bruno Cosendey', 'Paulão', 'Erazo', 'Fabrício', 'Yago Pikachu (2)', 'Wagner', 'Bruno Silva', 'Andrey', 'Thiago Galhardo', 'Maxi López', 'Marrony', 'Marrony (2)', 'Lucas Mineiro', 'Danilo Barcelos', 'Bruno César', 'Tiago Reis', 'Raul', 'Ricardo Graça', 'Marcos Júnior', 'Valdívia (2)', 'Leandro Castan', 'Fellipe Bastos', 'Ribamar', 'Bruno Gomes', 'Rossi', 'Fredy Guarín', 'Oswaldo Henríquez', 'Germán Cano', 'Werley (2)', 'Germán Cano (3)', 'Fellipe Bastos (2)', 'Germán Cano (2)', 'Henrique', 'Talles Magno', 'Vinícius', 'Martín Benítez', 'Léo Matos', 'Carlinhos', 'Gabriel Pec', 'Ricardo Graça (2)', 'Gabriel Pec (2)', 'Marquinhos Gabriel', 'Matías Galarza', 'Tiago Reis (3)', 'Sarrafiore', 'Daniel Amorim', 'Morato', 'MT', 'Léo Jabá', 'Raniel', 'Getúlio (2)', 'Bruno Nazário', 'gol contra', 'Figueiredo', 'Andrey Santos', 'Getúlio', 'Erick', 'Andrey Santos (2)', 'Eguinaldo', 'Alex Teixeira (2)', 'Fábio Gomes', 'Anderson Conceição', 'Galarza', 'Alex Teixeira', 'Pedro Raul (2)', 'Erick Marcus', 'Puma Rodríguez', 'Capasso', 'Pedro Raul', 'Barros', 'Jair', 'Rayan', 'Vegetti', 'Serginho', 'Vegetti (2)', 'Payet', 'Paulo Henrique', 'Paulinho Paula', 'Léo', 'David', 'Adson', 'Galdames', 'Lucas Piton', 'Maicon', 'Mateus Carvalho', 'Juan Sforza', 'Emerson Rodríguez', 'Hugo Moura', 'João Victor', 'Philippe Coutinho', 'Payet (2)']\n"
     ]
    }
   ],
   "source": [
    "# Corrigindo duplicatas da coluna gol_1\n",
    "\n",
    "df_data_netvasco['gol_1'] = df_data_netvasco['gol_1'].replace({\n",
    "    'NenÃª' : 'Nenê',\n",
    "    'NenÃª (2)' : 'Nenê (2)',\n",
    "    'Nene' : 'Nenê',\n",
    "    'PaulÃ£o' : 'Paulinho',\n",
    "    'AndrÃ©s RÃ\\xados' : 'Andrés Ríos'\n",
    "    })\n",
    "\n",
    "print(df_data_netvasco['gol_1'].unique().tolist())"
   ]
  },
  {
   "cell_type": "code",
   "execution_count": 105,
   "id": "6bcfb6fa",
   "metadata": {},
   "outputs": [
    {
     "name": "stdout",
     "output_type": "stream",
     "text": [
      "['Rodrigo', nan, 'Nenê', 'Thalles', 'Wagner', 'Yago Pikachu', 'Luis Fabiano', 'Manga Escobar', 'Paulo Vitor', 'Paulinho', 'Andrey', 'Rildo', 'Thiago Galhardo', 'Riascos', 'Evander', 'Giovanni Augusto', 'Andrés Ríos', 'Bruno Cosendey', 'Ramon', 'Danilo Barcelos', 'Yan Sasse', 'Marrony', 'Ribamar', 'Rossi', 'Tiago Reis', 'Ricardo Graça', 'Leandro Castan', 'Talles Magno', 'Raul', 'Germán Cano', 'Martín Benítez', 'Marquinhos Gabriel', 'Zeca', 'Gabriel Pec', 'Léo Matos', 'Bruno Gomes', 'Morato', 'Léo Jabá', 'Caio Lopes', 'Matías Galarza', 'Juninho', 'Raniel', 'Vinícius', 'Figueiredo', 'Palacios', 'Eguinaldo', 'Marlon Gomes', 'Bruno Tubarão', 'Andrey Santos', 'Jair', 'Pedro Raul', 'Alex Teixeira', 'Galarza', 'Praxedes', 'Orellano', 'Vegetti', 'Puma Rodríguez', 'Serginho', 'Leandrinho', 'Rayan', 'Galdames', 'Zé Gabriel', 'David', 'Lucas Piton', 'Mateus Carvalho', 'Lyncon', 'GB', 'Victor Luis', 'Emerson Rodríguez', 'Maxime Dominguez']\n"
     ]
    }
   ],
   "source": [
    "# Corrigindo duplicatas da coluna gol_2\n",
    "\n",
    "df_data_netvasco['gol_2'] = df_data_netvasco['gol_2'].replace({\n",
    "    'NenÃª' : 'Nenê',\n",
    "    'NenÃª (2)' : 'Nenê (2)',\n",
    "    'Nene' : 'Nenê',\n",
    "    'PaulÃ£o' : 'Paulinho',\n",
    "    'AndrÃ©s RÃ\\xados' : 'Andrés Ríos'\n",
    "    })\n",
    "\n",
    "print(df_data_netvasco['gol_2'].unique().tolist())"
   ]
  },
  {
   "cell_type": "code",
   "execution_count": 106,
   "id": "032c5b2a",
   "metadata": {},
   "outputs": [
    {
     "name": "stdout",
     "output_type": "stream",
     "text": [
      "[nan, 'Thalles', 'Nenê', 'Evander', 'Yago Pikachu', 'Rildo', 'Wagner', 'Riascos', 'Paulinho', 'Caio Monteiro', 'Dudu', 'Thiago Galhardo', 'Ribamar', 'Ygor Catatau', 'Matías Galarza', 'Morato', 'Marquinhos Gabriel', 'Vitinho', 'Quintero', 'Raniel', 'Figueiredo', 'Marlon Gomes', 'Léo', 'Puma Rodríguez', 'Vegetti', 'Rossi', 'Paixão', 'Lucas Piton', 'Payet', 'Estrella']\n"
     ]
    }
   ],
   "source": [
    "# Corrigindo duplicatas da coluna gol_3\n",
    "\n",
    "df_data_netvasco['gol_3'] = df_data_netvasco['gol_3'].replace({\n",
    "    'NenÃª' : 'Nenê',\n",
    "    'NenÃª (2)' : 'Nenê (2)',\n",
    "    'Nene' : 'Nenê',\n",
    "    })\n",
    "\n",
    "print(df_data_netvasco['gol_3'].unique().tolist())"
   ]
  },
  {
   "cell_type": "code",
   "execution_count": 107,
   "id": "7a63a131",
   "metadata": {},
   "outputs": [
    {
     "name": "stdout",
     "output_type": "stream",
     "text": [
      "['Vasco da Gama', 'Bangu', 'Santos-AP', 'Volta Redonda', 'Flamengo', 'Vila Nova', 'Macaé', 'Vitória', 'Nova Iguaçu', 'Fluminense', 'Palmeiras', 'Grêmio', 'Chapecoense', 'Botafogo', 'Coritiba', 'São Paulo', 'Atlético-MG', 'Ponte Preta', 'Bahia', 'Corinthians', 'Sport', 'Avaí', 'Atlético-GO', 'Santos', 'Athletico-PR', 'Cruzeiro', 'Cabofriense', 'Universidad de Concepción-CHI', 'Jorge Wilstermann-BOL', 'Portuguesa', 'Madureira', 'Racing-ARG', 'Universidad de Chile-CHI', 'Internacional', 'LDU-EQU', 'América-MG', 'Paraná', 'Ceará', 'Juazeirense-BA', 'Serra-ES', 'Resende', 'Fortaleza', 'Rio Branco-ES', 'Foz do Iguaçu', 'Goiás', 'CSA', 'Boavista', 'Altos-PI', 'Oriente Petrolero-BOL', 'Caracas-VEN', 'Defensa y Justicia-ARG', 'Red Bull Bragantino', 'Caldense-MG', 'Tombense-MG', 'Brasil de Pelotas', 'Remo', 'Operário-PR', 'CRB', 'Brusque', 'Confiança', 'Sampaio Corrêa', 'Náutico', 'Guarani', 'Londrina', 'Audax', 'Ferroviária', 'Tombense', 'Novorizontino', 'Criciúma', 'Ituano', 'River Plate', 'Inter Miami', 'Trem-AP', 'Cuiabá', 'San Lorenzo-ARG', 'Deportivo Maldonado-URU', 'Marcílio Dias', 'Juventude']\n"
     ]
    }
   ],
   "source": [
    "# Corrigindo duplicatas da coluna mandante\n",
    "\n",
    "df_data_netvasco['mandante'] = df_data_netvasco['mandante'].replace({\n",
    "    'MacaÃ©' : 'Macaé',\n",
    "    'VitÃ³ria' : 'Vitória',\n",
    "    'Vitoria' : 'Vitória',\n",
    "    'Nova IguaÃ§u' : 'Nova Iguaçu',\n",
    "    'GrÃªmio' : 'Grêmio',\n",
    "    'SÃ£o Paulo' : 'São Paulo',\n",
    "    'AtlÃ©tico-MG' : 'Atlético-MG',\n",
    "    'AvaÃ\\xad' : 'Avaí',\n",
    "    'AtlÃ©tico-GO' : 'Atlético-GO',\n",
    "    'Atletico-GO' : 'Atlético-GO',\n",
    "    'AtlÃ©tico-PR' : 'Athletico-PR',\n",
    "    'Atlético-PR' : 'Athletico-PR',\n",
    "    'ABC' : 'ABC-RN',\n",
    "    'Juazeirense' : 'Juazeirense-BA',\n",
    "    'Operário' : 'Operário-PR',\n",
    "    'VASCO' : 'Vasco da Gama'\n",
    "    })\n",
    "\n",
    "\n",
    "print(df_data_netvasco['mandante'].unique().tolist())"
   ]
  },
  {
   "cell_type": "code",
   "execution_count": 108,
   "id": "9a0c7460",
   "metadata": {},
   "outputs": [
    {
     "name": "stdout",
     "output_type": "stream",
     "text": [
      "['Barcelona-EQU', 'Corinthians', 'River Plate-ARG', 'Fluminense', 'Vasco da Gama', 'Resende', 'Portuguesa', 'Vitória', 'Botafogo', 'Madureira', 'Boavista', 'Flamengo', 'Bahia', 'Sport', 'Avaí', 'Atlético-GO', 'Santos', 'Athletico-PR', 'Cruzeiro', 'Palmeiras', 'Grêmio', 'Chapecoense', 'Coritiba', 'São Paulo', 'Atlético-MG', 'Ponte Preta', 'Bangu', 'Nova Iguaçu', 'Volta Redonda', 'Universidad de Concepción-CHI', 'Jorge Wilstermann-BOL', 'Macaé', 'Universidad de Chile-CHI', 'Racing-ARG', 'América-MG', 'Paraná', 'LDU-EQU', 'Ceará', 'Internacional', 'Americano', 'CSA', 'Fortaleza', 'Goiás', 'Cabofriense', 'Oriente Petrolero-BOL', 'ABC-RN', 'Red Bull Bragantino', 'Caracas-VEN', 'Defensa y Justicia-ARG', 'Operário-PR', 'CRB', 'Brusque', 'Confiança', 'Sampaio Corrêa', 'Náutico', 'Guarani', 'Vila Nova', 'Londrina', 'Brasil de Pelotas', 'Remo', 'Ituano', 'Tombense', 'Novorizontino', 'Criciúma', 'Athletic-MG', 'Cuiabá', 'Audax', 'Água Santa', 'Juventude']\n"
     ]
    }
   ],
   "source": [
    "# Corrigindo duplicatas da coluna visitante\n",
    "\n",
    "df_data_netvasco['visitante'] = df_data_netvasco['visitante'].replace({\n",
    "    'MacaÃ©' : 'Macaé',\n",
    "    'VitÃ³ria' : 'Vitória',\n",
    "    'Vitoria' : 'Vitória',\n",
    "    'Nova IguaÃ§u' : 'Nova Iguaçu',\n",
    "    'GrÃªmio' : 'Grêmio',\n",
    "    'SÃ£o Paulo' : 'São Paulo',\n",
    "    'AtlÃ©tico-MG' : 'Atlético-MG',\n",
    "    'AvaÃ\\xad' : 'Avaí',\n",
    "    'AtlÃ©tico-GO' : 'Atlético-GO',\n",
    "    'Atletico-GO' : 'Atlético-GO',\n",
    "    'AtlÃ©tico-PR' : 'Athletico-PR',\n",
    "    'Atlético-PR' : 'Athletico-PR',\n",
    "    'ABC' : 'ABC-RN',\n",
    "    'Juazeirense' : 'Juazeirense-BA',\n",
    "    'Operário' : 'Operário-PR',\n",
    "    'VASCO' : 'Vasco da Gama'\n",
    "    })\n",
    "\n",
    "\n",
    "print(df_data_netvasco['visitante'].unique().tolist())"
   ]
  },
  {
   "cell_type": "code",
   "execution_count": 109,
   "id": "f905538d",
   "metadata": {},
   "outputs": [
    {
     "name": "stdout",
     "output_type": "stream",
     "text": [
      "['Florida Cup', 'Carioca', 'Copa do Brasil', 'Brasileiro', 'Libertadores', 'Sul-Americana', 'Amistoso', 'Série B', 'Serie RLP']\n"
     ]
    }
   ],
   "source": [
    "# Corrigindo duplicatas da coluna competição\n",
    "\n",
    "df_data_netvasco['competicao'] = df_data_netvasco['competicao'].replace({\n",
    "    'Copa BR' : 'Copa do Brasil',\n",
    "    'Estadual' : 'Carioca'\n",
    "    })\n",
    "\n",
    "\n",
    "print(df_data_netvasco['competicao'].unique().tolist())"
   ]
  },
  {
   "cell_type": "code",
   "execution_count": 110,
   "id": "01528f80",
   "metadata": {},
   "outputs": [],
   "source": [
    "# Função para repetir o nome do jogador para as outras colunas conforme o numero de gols na partida\n",
    "\n",
    "def expandir_duplicatas_de_gols(df, col_prefix='gol_', max_pad=10):\n",
    "    df = df.copy()\n",
    "\n",
    "    # Identifica colunas do tipo gol_1, gol_2, etc.\n",
    "    colunas_gol = sorted([\n",
    "    col for col in df.columns if re.fullmatch(f\"{col_prefix}[0-9]+\", col)\n",
    "], key=lambda x: int(x.split('_')[-1]))\n",
    "\n",
    "    for idx, row in df.iterrows():\n",
    "        nomes_expandidos = []\n",
    "\n",
    "        for col in colunas_gol:\n",
    "            valor = row[col]\n",
    "            if isinstance(valor, str) and valor.strip():\n",
    "                match = re.match(r'^(.*?)(?:\\s*\\((\\d+)\\))?$', valor.strip())\n",
    "                if match:\n",
    "                    nome = match.group(1).strip()\n",
    "                    qtd = int(match.group(2)) if match.group(2) else 1\n",
    "                    nomes_expandidos.extend([nome] * qtd)\n",
    "\n",
    "        # Garante colunas suficientes\n",
    "        num_gols = len(nomes_expandidos)\n",
    "        for i in range(1, max(num_gols, max_pad) + 1):\n",
    "            col_name = f'{col_prefix}{i}'\n",
    "            if col_name not in df.columns:\n",
    "                df[col_name] = None\n",
    "\n",
    "        # Limpa as antigas e preenche com as novas\n",
    "        for col in colunas_gol:\n",
    "            df.at[idx, col] = None\n",
    "\n",
    "        for i, nome in enumerate(nomes_expandidos):\n",
    "            df.at[idx, f'{col_prefix}{i+1}'] = nome\n",
    "\n",
    "    return df\n"
   ]
  },
  {
   "cell_type": "code",
   "execution_count": 111,
   "id": "dde63c6d",
   "metadata": {},
   "outputs": [
    {
     "name": "stdout",
     "output_type": "stream",
     "text": [
      "Index(['data', 'competicao', 'mandante', 'gol_mandante', 'visitante',\n",
      "       'gol_visitante', 'gol_1', 'gol_2', 'gol_3', 'ano', 'gol_4', 'gol_5',\n",
      "       'gol_6', 'gol_7', 'gol_8', 'gol_9', 'gol_10'],\n",
      "      dtype='object')\n"
     ]
    }
   ],
   "source": [
    "# Aplicando a função para expandir os artilheiros nas colunas adjacentes\n",
    "\n",
    "df_data_netvasco = expandir_duplicatas_de_gols(df_data_netvasco)\n",
    "\n",
    "print(df_data_netvasco.columns)"
   ]
  },
  {
   "cell_type": "code",
   "execution_count": 112,
   "id": "02c5ce79",
   "metadata": {},
   "outputs": [],
   "source": [
    "# Identifica colunas de artilheiros\n",
    "colunas_gols = sorted([\n",
    "    col for col in df_data_netvasco.columns if re.fullmatch(r'gol_\\d+', col)\n",
    "], key=lambda x: int(x.split('_')[1]))\n",
    "\n",
    "# Aplica por linha: conta quantas vezes o mesmo jogador aparece\n",
    "jogadores_multigols = []\n",
    "\n",
    "for _, row in df_data_netvasco.iterrows():\n",
    "    gols = row[colunas_gols].dropna().astype(str).str.strip()\n",
    "    contagem = gols.value_counts()\n",
    "    repetidos = contagem[contagem > 1]\n",
    "    if not repetidos.empty:\n",
    "        for jogador, qtd in repetidos.items():\n",
    "            jogadores_multigols.append({\n",
    "                'data': row['data'],\n",
    "                'mandante': row['mandante'],\n",
    "                'visitante': row['visitante'],\n",
    "                'jogador': jogador,\n",
    "                'gols_na_partida': qtd\n",
    "            })\n",
    "\n",
    "# Transforma em DataFrame final\n",
    "df_multigols = pd.DataFrame(jogadores_multigols)\n"
   ]
  },
  {
   "cell_type": "code",
   "execution_count": 113,
   "id": "bde8b29a",
   "metadata": {},
   "outputs": [],
   "source": [
    "# Realocando a coluna ano para a primeira posição\n",
    "\n",
    "colunas = df_data_netvasco.columns.tolist()\n",
    "colunas.remove('ano')\n",
    "colunas = ['ano'] + colunas\n",
    "df_data_netvasco = df_data_netvasco[colunas]"
   ]
  },
  {
   "cell_type": "code",
   "execution_count": 114,
   "id": "49f8ee85",
   "metadata": {},
   "outputs": [],
   "source": [
    "# Convertendo a coluna data para o formato datetime\n",
    "\n",
    "df_data_netvasco['data'] = pd.to_datetime(df_data_netvasco['data'], format='%d/%m/%Y')"
   ]
  },
  {
   "cell_type": "code",
   "execution_count": 115,
   "id": "891d09ac",
   "metadata": {},
   "outputs": [],
   "source": [
    "# Verificando a existencia de espaços em branco nas colunas\n",
    "\n",
    "for col in df_data_netvasco.select_dtypes(include='object').columns:\n",
    "    if df_data_netvasco[col].str.contains(r'^\\s|\\s$', na=False).any():\n",
    "        print(f\"Atenção: há espaços em branco na coluna → {col}\")\n"
   ]
  },
  {
   "cell_type": "code",
   "execution_count": 116,
   "id": "e2610086",
   "metadata": {},
   "outputs": [],
   "source": [
    "df_data_netvasco['data'] = df_data_netvasco['data'].dt.strftime('%d/%m/%Y')\n",
    "\n",
    "df_data_netvasco.to_json(\n",
    "    'data_netvasco_temp_17to24_clean.json',\n",
    "    orient='records',\n",
    "    force_ascii=False,\n",
    "    indent=4\n",
    ")"
   ]
  }
 ],
 "metadata": {
  "kernelspec": {
   "display_name": ".venv",
   "language": "python",
   "name": "python3"
  },
  "language_info": {
   "codemirror_mode": {
    "name": "ipython",
    "version": 3
   },
   "file_extension": ".py",
   "mimetype": "text/x-python",
   "name": "python",
   "nbconvert_exporter": "python",
   "pygments_lexer": "ipython3",
   "version": "3.13.3"
  }
 },
 "nbformat": 4,
 "nbformat_minor": 5
}
